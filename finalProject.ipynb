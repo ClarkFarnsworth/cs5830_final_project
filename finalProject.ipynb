{
 "cells": [
  {
   "cell_type": "markdown",
   "id": "86a4397f8b382ebb",
   "metadata": {
    "collapsed": false
   },
   "source": [
    "# Final Project\n",
    "\n",
    "- [Report]()\n",
    "- [Slides]()\n",
    "- [Dataset](https://www.kaggle.com/datasets/rohanrao/formula-1-world-championship-1950-2020?select=results.csv)\n",
    "- [API](https://docs.fastf1.dev/core.html#api-reference)"
   ]
  },
  {
   "cell_type": "markdown",
   "id": "664f7a90ad922e6a",
   "metadata": {
    "collapsed": false
   },
   "source": [
    "## Setup"
   ]
  },
  {
   "cell_type": "code",
   "execution_count": 43,
   "id": "initial_id",
   "metadata": {
    "collapsed": true
   },
   "outputs": [],
   "source": [
    "import matplotlib.pyplot as plt\n",
    "import pandas as pd\n",
    "import seaborn as sns\n",
    "from sklearn.metrics import precision_recall_fscore_support\n",
    "from sklearn.model_selection import train_test_split\n",
    "from sklearn.tree import DecisionTreeClassifier\n",
    "from sklearn import tree"
   ]
  },
  {
   "cell_type": "markdown",
   "id": "d3bdcfc6",
   "metadata": {},
   "source": [
    "## Exploring/Cleaning Data"
   ]
  }
 ],
 "metadata": {
  "kernelspec": {
   "display_name": "Python 3",
   "language": "python",
   "name": "python3"
  },
  "language_info": {
   "codemirror_mode": {
    "name": "ipython",
    "version": 3
   },
   "file_extension": ".py",
   "mimetype": "text/x-python",
   "name": "python",
   "nbconvert_exporter": "python",
   "pygments_lexer": "ipython3",
   "version": "3.9.7"
  }
 },
 "nbformat": 4,
 "nbformat_minor": 5
}
